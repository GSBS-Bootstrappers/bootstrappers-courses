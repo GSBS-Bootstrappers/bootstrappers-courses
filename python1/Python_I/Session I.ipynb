{
 "metadata": {
  "name": "",
  "notes": "Python I course, Session I, GSBS Bootstrappers, UMASS Medical School",
  "signature": "sha256:907c860c16ed3c8a476f7b47f2cddd3d9bbafe3e2e96633d0f5c8979563c3b2e"
 },
 "nbformat": 3,
 "nbformat_minor": 0,
 "worksheets": [
  {
   "cells": [
    {
     "cell_type": "markdown",
     "metadata": {},
     "source": [
      "#Day 1: Introduction Python and iPython Notebooks, variables and data types, simple conversions, expressions and conditionals  \n",
      "<br>\n",
      "\n",
      "##Exercises 1: Getting familiar with Python and iPython Notebook (30 minutes):\n",
      "\n",
      "1. The following commands can be run in iPython notebook by typing them in a \"code box\" and then hitting _alt + enter_. The code entered will be run and a new code box appears. Try to type in and run (not copy-paste) the following commands, one by one, and see what happens.\n",
      "\n",
      "\n",
      "* `1+2`\n",
      "* `1+'2'`\n",
      "* `'1'+'2'`\n",
      "* `AC+GT`\n",
      "* `'AC'+'GT'`\n",
      "* `'AC'+1`\n",
      "* `'AC'+'1'+'GT'`\n",
      "* `1/2`\n",
      "* `2/2`\n",
      "* `3/2`\n",
      "* `4/2`\n",
      "* `'4'/2`\n",
      "* `'4'/'2'`\n",
      "* `'4/2'`\n",
      "* `1/2.0`  \n",
      "<br>"
     ]
    },
    {
     "cell_type": "code",
     "collapsed": false,
     "input": [
      "\n",
      "\n",
      "\n"
     ],
     "language": "python",
     "metadata": {},
     "outputs": []
    },
    {
     "cell_type": "markdown",
     "metadata": {},
     "source": [
      "<ol start=\"2\">\n",
      "  <li>How do characters and numbers with and without quotes seem to interact with the '+' operator? How is division working (or not working)?</li>\n",
      "</ol>"
     ]
    },
    {
     "cell_type": "code",
     "collapsed": false,
     "input": [
      "\n",
      "\n",
      "\n"
     ],
     "language": "python",
     "metadata": {},
     "outputs": []
    },
    {
     "cell_type": "markdown",
     "metadata": {},
     "source": [
      "<ol start=\"3\">\n",
      "  <li>Try using the Python documentation on strings (`str`) to figure out what `'ACACAGT'.count('A')` would return and what `'ACACAGT'.count('AC')` would return. Based on this, what should `'ACACAGT'.count('C') + 6` return? Try using the python documentation to learn about the function called `len()`.</li>\n",
      "</ol>\n",
      "\n",
      "* Python documentation on [sequence types](https://docs.python.org/2.7/library/stdtypes.html#sequence-types-str-unicode-list-tuple-bytearray-buffer-xrange) such as `str` and `list`.  \n",
      "* Python language [reference](https://docs.python.org/2.7/reference/index.html) (https://docs.python.org/2.7/reference/index.html).\n",
      "\n",
      "\n"
     ]
    },
    {
     "cell_type": "code",
     "collapsed": false,
     "input": [
      "\n"
     ],
     "language": "python",
     "metadata": {},
     "outputs": []
    },
    {
     "cell_type": "markdown",
     "metadata": {},
     "source": [
      "<ol start=\"4\"><li>What happens if you do `len('ACACAGT')`? With this, use `count` and `len` to calculate the AT content of the above phrase.</li></ol>"
     ]
    },
    {
     "cell_type": "code",
     "collapsed": false,
     "input": [
      "\n"
     ],
     "language": "python",
     "metadata": {},
     "outputs": []
    },
    {
     "cell_type": "markdown",
     "metadata": {},
     "source": [
      "<ol start=\"5\"><li>Practice troubleshooting by breaking this erroneous statement into components and finding the smallest snippet of the statement needed to give the error you see.</li></ol>"
     ]
    },
    {
     "cell_type": "code",
     "collapsed": false,
     "input": [
      "(1 + '2/4') / 6"
     ],
     "language": "python",
     "metadata": {},
     "outputs": []
    },
    {
     "cell_type": "markdown",
     "metadata": {},
     "source": [
      "<br>\n",
      "##Exercises 2: variables and types (45 minutes):\n",
      "\n",
      "1. Here are some uses of `int`, `str`, and `float` that Python can use to convert values between data types. See if you can predict the output of the following commands. Note that Python follows the mathematical order of operations as well as the order established in math for parentheses. Try some of your own also.  \n",
      "\n",
      "\n",
      "\n",
      "* `str(1)`\n",
      "* `int('bear')`\n",
      "* `str(1) + str(2)`\n",
      "* `'1' + '2' + 5`\n",
      "* `int('1') + int('2')`\n",
      "* `int('1' + '2') + 5`\n",
      "* `int(str(1 + 2) + '6') / 2`\n",
      "* `float(1) / 2`\n",
      "* `float(1 / 2)`\n",
      "* `1 / float(2) + 1`\n",
      "* `float(1) / float(2)`  \n",
      "<br>"
     ]
    },
    {
     "cell_type": "code",
     "collapsed": false,
     "input": [],
     "language": "python",
     "metadata": {},
     "outputs": []
    },
    {
     "cell_type": "markdown",
     "metadata": {},
     "source": [
      "<ol start=\"2\"><li>Use the `'='` sign to store some values as variables. Note that this `'='` is not a math sign anymore! `1 = 0 + 1` is not valid in Python, and `x = 3` is valid but `3 = x` is not.</li></ol>"
     ]
    },
    {
     "cell_type": "code",
     "collapsed": false,
     "input": [],
     "language": "python",
     "metadata": {},
     "outputs": []
    },
    {
     "cell_type": "markdown",
     "metadata": {},
     "source": [
      "<ol start=\"3\"><li>Experiment with different variable names. Values can be stored as lettered variables as in algebra.</li></ol>"
     ]
    },
    {
     "cell_type": "code",
     "collapsed": false,
     "input": [],
     "language": "python",
     "metadata": {},
     "outputs": []
    },
    {
     "cell_type": "markdown",
     "metadata": {},
     "source": [
      "<ol start=\"4\"><li>Try these operations with numbers stored as variables.</li></ol>\n",
      "\n",
      "* `x = 1; y = 2`\n",
      "* `x + y`\n",
      "* `a = '1'; b = 2`\n",
      "* `a + b`\n",
      "* `first_part = 'AC'; second_part = '8'`\n",
      "* `second_part + first_part`\n",
      "* `m = n`\n",
      "* `n = 3`\n",
      "* `m = n`\n",
      "* `m + first_part`\n",
      "* `m = 'n'`\n",
      "* `m + first_part`\n",
      "* `m + m`  \n",
      "<br>"
     ]
    },
    {
     "cell_type": "code",
     "collapsed": false,
     "input": [
      "\n",
      "\n",
      "\n"
     ],
     "language": "python",
     "metadata": {},
     "outputs": []
    },
    {
     "cell_type": "markdown",
     "metadata": {},
     "source": [
      "<ol start=\"5\"><li>You can store the results of an operation as a variable, ex. `z = x + y`.  \n",
      "See what happens when you store the results of an operation as one of the input variables, ex. `x = x + y`. What is `x` now? (type the variable name followed by the _alt + enter_ to see what's currently stored in any variable).  What happens to `x` if you do `x = x + y` again and again? If you initially chose strings for `x` and `y`, try it with integers. If you chose integers, try it with strings.</li></ol>"
     ]
    },
    {
     "cell_type": "code",
     "collapsed": false,
     "input": [],
     "language": "python",
     "metadata": {},
     "outputs": []
    },
    {
     "cell_type": "markdown",
     "metadata": {},
     "source": [
      "<ol start=\"6\"><li>Using the Python documentation on `str` and the entry under `replace`, have Python convert a string of DNA into a string of RNA and store the result as a variable.</li></ol>\n"
     ]
    },
    {
     "cell_type": "code",
     "collapsed": false,
     "input": [
      "\n",
      "\n",
      "\n"
     ],
     "language": "python",
     "metadata": {},
     "outputs": []
    },
    {
     "cell_type": "markdown",
     "metadata": {},
     "source": [
      "<br>\n",
      "##Exercises 3: conditionals and scripts (1 hour)\n",
      "\n",
      "1. Here are some example conditionals in python to enter in the interactive python to see if these things are considered true. Try rearranging the order and the symbols to guess what python derives when it comes to an answer.  \n",
      "\n",
      "\n",
      "* `3 < 5`\n",
      "* `3 = 5`\n",
      "* `3 == 3`\n",
      "* `3 == 5`\n",
      "* `3 <= 3`\n",
      "* `3 =< 3`\n",
      "* `type(3) == int`\n",
      "* `type('3') != int`\n",
      "* `type('here') == str`\n",
      "* `'AT' in 'ATG'`\n",
      "* `'AG' in 'ATG'`\n",
      "* `'AA' < 'AC'`\n",
      "* `'AA' not in 'GCT'`\n",
      "* `'GA' < 'AC'`\n",
      "* `'AA' != 'AT'`\n",
      "* `'A' in 'AAC' and 'T' in 'AAC'`\n",
      "* `'A' in 'AAC' or 'T' in 'AAC'`\n",
      "* `'AA' == 'aa'`\n",
      "* `'aa' > 'AA'`\n",
      "* `'a' in 'AA'`\n",
      "* `'A' in 'AAC' or 'AA' in 'AAC' and 'ac' in 'AAC'`\n",
      "* `('A' in 'AAC' or 'AA' in 'AAC') and 'ac' in 'AAC'`\n",
      "* `'A' not in 'AAC' or 'AA' in 'AAC' and 'ac'.upper() in 'AAC'`  # (use the Python documentation on `str` to figure out what `upper` is doing)  \n"
     ]
    },
    {
     "cell_type": "code",
     "collapsed": false,
     "input": [
      "\n",
      "\n",
      "\n"
     ],
     "language": "python",
     "metadata": {},
     "outputs": []
    },
    {
     "cell_type": "markdown",
     "metadata": {},
     "source": [
      "<ol start=\"2\"><li>Python can use conditionals to make decisions. See what happens if you run the following statements (note the indentation).</li></ol>"
     ]
    },
    {
     "cell_type": "code",
     "collapsed": false,
     "input": [
      "if 3 < 5:\n",
      "    print '3 is smaller than 5'"
     ],
     "language": "python",
     "metadata": {},
     "outputs": []
    },
    {
     "cell_type": "code",
     "collapsed": false,
     "input": [
      "if 9999999 < 'AA':\n",
      "    print 'AA must be big!'"
     ],
     "language": "python",
     "metadata": {},
     "outputs": []
    },
    {
     "cell_type": "code",
     "collapsed": false,
     "input": [
      "if 'AACC' < 'AAAC':\n",
      "    smaller = 'AACC'\n",
      "else:\n",
      "    smaller = 'AAAC'\n",
      "print 'smaller is ' + smaller"
     ],
     "language": "python",
     "metadata": {},
     "outputs": []
    },
    {
     "cell_type": "markdown",
     "metadata": {},
     "source": [
      "<ol start=\"3\"><li>Write a program that tests whether 'Q' is in the amino acid sequence 'ALSQDQEI'.</li></ol>"
     ]
    },
    {
     "cell_type": "code",
     "collapsed": false,
     "input": [
      "\n",
      "\n",
      "\n"
     ],
     "language": "python",
     "metadata": {},
     "outputs": []
    },
    {
     "cell_type": "markdown",
     "metadata": {},
     "source": [
      "<ol start=\"4\"><li>Modify the program to print the position of 'Q' if 'Q' is present (use the entry on `index` from the Python documentation on `str` to figure out how to determine the location of a character or short substring within a longer string). The result may not be what you expect. Try the same thing searching for the character 'A'.</li></ol>"
     ]
    },
    {
     "cell_type": "code",
     "collapsed": false,
     "input": [
      "\n",
      "\n",
      "\n"
     ],
     "language": "python",
     "metadata": {},
     "outputs": []
    },
    {
     "cell_type": "markdown",
     "metadata": {},
     "source": [
      "<ol start=\"5\"><li>Good programs work well regardless of the input. Test your program searching for a character that isn't in the string (for example, 'M'). If 'Q' works and 'M' gives an error, the `if` statement needs to be revised so that it finds 'Q' and doesn't give an error when it searches for 'M'.</li></ol>"
     ]
    },
    {
     "cell_type": "code",
     "collapsed": false,
     "input": [
      "\n",
      "\n",
      "\n"
     ],
     "language": "python",
     "metadata": {},
     "outputs": []
    }
   ],
   "metadata": {}
  }
 ]
}