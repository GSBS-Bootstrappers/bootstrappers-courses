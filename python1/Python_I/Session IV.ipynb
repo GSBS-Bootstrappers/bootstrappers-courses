{
 "metadata": {
  "name": "",
  "notes": "Python I course, Session IV, GSBS Bootstrappers, UMASS Medical School",
  "signature": "sha256:41a305c796d9a48deb41d726bb3d4931324066e5523312418adc60722857c05a"
 },
 "nbformat": 3,
 "nbformat_minor": 0,
 "worksheets": [
  {
   "cells": [
    {
     "cell_type": "markdown",
     "metadata": {},
     "source": [
      "# Day 4: Dictionaries, functions and scripting\n",
      "\n",
      "In this session we will cover the use of the dictionary data type, functions and we will move from the use of iPython Notebooks to scripts.  \n",
      "\n",
      "\n",
      "For this course we will use \"spyder\" to create and run Python scripts. Open \"spyder-app\" from the Anaconda launcher.\n",
      "\n",
      "<img src=\"images/spyder.png\" width=\"800\">\n",
      "\n",
      "Spyder is a so-called IDE (integrated development environment) that aids in the creation of Python scripts. It is not required to use an IDE (notepad or any other text editor will do) but, in general IDEs use knowledge of the programming language to make a programmer's life a little easier.\n",
      "\n",
      "\n",
      "## What's a script?\n",
      "Python scripts are text files that contain sequences of Python statements. A script can be executed by the Python interpreter; _python_ reads and interprets the script line-by-line, from top to bottom and if there are no errors, the script will be executed.  \n",
      "\n",
      "\n",
      "The general structure of a script is as follows:\n",
      "\n",
      "```{python}\n",
      "#!/usr/bin/env python\n",
      "\n",
      "import ...\n",
      "\n",
      "def function1(...):\n",
      "    statements\n",
      "    \n",
      "def function2(...):\n",
      "    statements\n",
      "    \n",
      "def main(...):\n",
      "    statements\n",
      "\n",
      "if __name__ == \"__main__\":\n",
      "    main(...)\n",
      "```\n",
      "\n",
      "To execute a script, run the following in a terminal (or DOS-box):\n",
      "\n",
      "```{bash}\n",
      "python myscript.py\n",
      "```\n",
      "\n",
      "## Functions\n",
      "Functions in Python (and in general in programming) are very similar to mathemacal functions. A function may accept arguments and in Python, functions always return a value. The keyword _def_ is used to define functions in Python and within functions, the _return_ keyword is used to return values. Create a script in __spyder__ that contains the following code and observe what happens if you run it using the green \"play button\":  \n",
      "\n",
      "\n",
      "```{python}\n",
      "#!/usr/bin/env python\n",
      "\n",
      "def area(length, width):\n",
      "    return length * width\n",
      "    \n",
      "def mean(numbers): # this defines a function `mean()`\n",
      "    mysum = sum(numbers)\n",
      "    return float(mysum) / len(numbers)\n",
      "\n",
      "def hello():\n",
      "    print(\"Hello World\")\n",
      "    \n",
      "def main(): # this defines a function `main()`\n",
      "    x = [1, 2, 3, 4, 5, 6, 7, 8, 9, 10]\n",
      "    print(mean(x))\n",
      "    print(type(mean(x)))\n",
      "    myvariable = hello()\n",
      "    print(type(myvariable))\n",
      "    print(area(10, 15))\n",
      "\n",
      "if __name__ == \"__main__\":\n",
      "    main()\n",
      "```\n",
      "\n",
      "## Dictionaries\n",
      "Dictionaries are a data type that holds not than one item. However, instead of indexing the _collection_ by a number, dictionaries can be indexed other data types, such as strings. The indices used for accessing items in a dictionary are called _keys_. The following example illustrates the dictionaty (_dict_, see [documentation](https://docs.python.org/2.7/library/stdtypes.html#mapping-types-dict)).  Run the examples below, in a script in __spyder__. Try to stick to the general structure of scripts, by putting the code into a _main()_ function.\n"
     ]
    },
    {
     "cell_type": "markdown",
     "metadata": {},
     "source": [
      "```{python}\n",
      "# an empty dictionary\n",
      "a = {}\n",
      "print(a)\n",
      "\n",
      "# a dictionary, indexed by strings\n",
      "a = {\"one\": 1, \"two\": 2, \"three\": 3}\n",
      "print(a[\"two\"])\n",
      "\n",
      "# does a key exist? (the `in` operator)\n",
      "print(\"one\" in a)\n",
      "print(\"four\" in a)\n",
      "\n",
      "# or like this\n",
      "if \"one\" in a:\n",
      "    print(\"a contains 'one'\")\n",
      "```"
     ]
    },
    {
     "cell_type": "markdown",
     "metadata": {},
     "source": [
      "<br>  \n",
      "\n",
      "The following short example shows how a dictionary could be used to count the occurences of letters in a string. The letter do not have to be known in advance for this to work.  \n",
      "\n",
      "<br>"
     ]
    },
    {
     "cell_type": "markdown",
     "metadata": {},
     "source": [
      "```{python}\n",
      "# counting letters\n",
      "mystring = \"Dictionaries are a data type that holds not than one item\"\n",
      "mydict = {}\n",
      "for letter in mystring:\n",
      "    if letter in mydict:\n",
      "        mydict[letter] = mydict[letter] + 1 # updates an existing entry\n",
      "    else:\n",
      "        mydict[letter] = 1 # creates a new entry\n",
      "print(mydict)\n",
      "```"
     ]
    },
    {
     "cell_type": "markdown",
     "metadata": {},
     "source": [
      "```{python}\n",
      "# obtaining just the keys could be useful too\n",
      "keys = mydict.keys()\n",
      "print(keys)\n",
      "```"
     ]
    },
    {
     "cell_type": "markdown",
     "metadata": {},
     "source": [
      "```{python}\n",
      "# also, we can iterate over the keys of the dictionary\n",
      "print(\"All keys\")\n",
      "for key in mydict:\n",
      "    print(key)\n",
      "    \n",
      "# example\n",
      "for key in mydict:\n",
      "    print(\"the letter '\" + key + \"' occurred \" + str(mydict[key]) + \" times.\")\n",
      "\n",
      "```"
     ]
    },
    {
     "cell_type": "code",
     "collapsed": false,
     "input": [],
     "language": "python",
     "metadata": {},
     "outputs": []
    }
   ],
   "metadata": {}
  }
 ]
}