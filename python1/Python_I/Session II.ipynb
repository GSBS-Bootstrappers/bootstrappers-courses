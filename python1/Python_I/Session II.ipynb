{
 "metadata": {
  "notes": "Python I course, Session II, GSBS Bootstrappers, UMASS Medical School",
  "name": "",
  "signature": "sha256:1795cfcc1dee823525087154d02b099d611f1f2b32731e49c2609af5deee6e3c"
 },
 "nbformat": 3,
 "nbformat_minor": 0,
 "worksheets": [
  {
   "cells": [
    {
     "cell_type": "markdown",
     "metadata": {},
     "source": [
      "#Day 2: slices, lists, methods, and loops\n",
      "\n",
      "<br>\n",
      "##Review exercises (10 minutes)  \n",
      "\n",
      "* `a = 1; b = 2; c = 2.0; d = 'abcdefg'; e = '1'`\n",
      "* `1 / 2` \n",
      "* `a / b`\n",
      "* `a / c`\n",
      "* `float(a) / b`\n",
      "* `a / 'b'`\n",
      "* `a + b`\n",
      "* `d + e`\n",
      "* `d + 'e'`\n",
      "* \n",
      "\n",
      "\n",
      "```\n",
      "if 'd' in d:\n",
      "    print 'found d'\n",
      "if d in 'd':\n",
      "    print 'found abcdefg'\n",
      "else:\n",
      "    print 'the variable d was not in the string \"d\"'  \n",
      "```\n",
      "<br>"
     ]
    },
    {
     "cell_type": "code",
     "collapsed": false,
     "input": [
      "\n",
      "\n"
     ],
     "language": "python",
     "metadata": {},
     "outputs": [],
     "prompt_number": 0
    },
    {
     "cell_type": "markdown",
     "metadata": {},
     "source": [
      "<br>\n",
      "##Exercises 4: slices (20 minutes).\n",
      "\n",
      "1. Run these operations on the variable x which you should set up to hold the string 'UAUCGCUU'  \n",
      "\n",
      "\n",
      "* `x[0]`\n",
      "* `x[2:4]`\n",
      "* `x[4]`\n",
      "* `x[:]`\n",
      "* `x[:-3]`\n",
      "* `x[-2:-1]`\n",
      "* `x[-5:4]`\n",
      "* `x[-5:-9]`\n",
      "* `x[1:]`  \n"
     ]
    },
    {
     "cell_type": "code",
     "collapsed": false,
     "input": [
      "\n",
      "\n",
      "\n"
     ],
     "language": "python",
     "metadata": {},
     "outputs": [],
     "prompt_number": 0
    },
    {
     "cell_type": "markdown",
     "metadata": {},
     "source": [
      "Try some values of your own to see if you can reconstruct how negative indices and left off start and end arguments work."
     ]
    },
    {
     "cell_type": "code",
     "collapsed": false,
     "input": [
      "\n",
      "\n",
      "\n"
     ],
     "language": "python",
     "metadata": {},
     "outputs": []
    },
    {
     "cell_type": "markdown",
     "metadata": {},
     "source": [
      "<ol start=\"2\"><li>Store the string `'gene_1_UAUCCUA_0.3'` as a variable and write a slice notation to retrieve the third character (the 'two-eth' character). (remember that the first item is item number 0). This should give back `'n'`.</li></ol>\n"
     ]
    },
    {
     "cell_type": "code",
     "collapsed": false,
     "input": [
      "\n",
      "\n",
      "\n"
     ],
     "language": "python",
     "metadata": {},
     "outputs": [],
     "prompt_number": 0
    },
    {
     "cell_type": "markdown",
     "metadata": {},
     "source": [
      "<ol start=\"3\"><li>Write a second slice notation for your variable from above that retrieves the substring composed of the second character up until but not including the 5th character (second, third, and fourth items, should give back 'ene').</li></ol>\n"
     ]
    },
    {
     "cell_type": "code",
     "collapsed": false,
     "input": [
      "\n",
      "\n",
      "\n"
     ],
     "language": "python",
     "metadata": {},
     "outputs": [],
     "prompt_number": 0
    },
    {
     "cell_type": "markdown",
     "metadata": {},
     "source": [
      "<ol start=\"4\"><li>Write a slice notation that uses negative indices to retrieve the substring composed of the last 3 characters.</li></ol>\n"
     ]
    },
    {
     "cell_type": "code",
     "collapsed": false,
     "input": [],
     "language": "python",
     "metadata": {},
     "outputs": [],
     "prompt_number": 0
    },
    {
     "cell_type": "markdown",
     "metadata": {},
     "source": [
      "<ol start=\"5\"><li>Write a slice notation that uses negative indices to retrieve everything except the last 3 characters (everything up until '0.3' including the '_' that precedes it).</li></ol>\n"
     ]
    },
    {
     "cell_type": "code",
     "collapsed": false,
     "input": [],
     "language": "python",
     "metadata": {},
     "outputs": [],
     "prompt_number": 0
    },
    {
     "cell_type": "markdown",
     "metadata": {},
     "source": [
      "<ol start=\"6\"><li>Write a slice notation that retrieves the RNA portion of the string and nothing else.</li></ol>\n"
     ]
    },
    {
     "cell_type": "code",
     "collapsed": false,
     "input": [],
     "language": "python",
     "metadata": {},
     "outputs": []
    },
    {
     "cell_type": "markdown",
     "metadata": {},
     "source": [
      "<br>\n",
      "##Exercises 5: lists and splitting things (20-30 minutes)  \n",
      "\n",
      "1. Assign the string from the last set of exercises to the variable `x` and then try this command: `x2 = x.split('_')`.\n",
      "\n"
     ]
    },
    {
     "cell_type": "code",
     "collapsed": false,
     "input": [],
     "language": "python",
     "metadata": {},
     "outputs": [],
     "prompt_number": 0
    },
    {
     "cell_type": "markdown",
     "metadata": {},
     "source": [
      "<ol start=\"2\"><li>What happens if you print out `x2`? Note the `[` and `]` symbols and the commas, as well as the extra quote markings. These are features denoting that `x2` is a list (that's what the brackets on the end denote) composed of several strings (commas delimit the individual elements of the list). The `split` command that created this list from a string will be covered in part 5.</li></ol>\n"
     ]
    },
    {
     "cell_type": "code",
     "collapsed": false,
     "input": [],
     "language": "python",
     "metadata": {},
     "outputs": [],
     "prompt_number": 0
    },
    {
     "cell_type": "markdown",
     "metadata": {},
     "source": [
      "<ol start=\"3\"><li>With both `x` and `x2`, try these commands to compare the slice notation properties of a list with the slice notation properties of a string.</li></ol>\n",
      "\n",
      "* `type(x)`\n",
      "* `type(x2)`\n",
      "* `x[0]`\n",
      "* `x2[0]`\n",
      "* `x[0:2]`\n",
      "* `x2[0:2]`\n",
      "* `x[1:4][1:3]`\n",
      "* `x2[1:4][1:3]`\n",
      "* `type(x2[1:3])`\n",
      "* `type(x2[1:3][1])`\n",
      "* `x2[1:3][1][3]`\n",
      "* `x[1:3][1][3]`\n"
     ]
    },
    {
     "cell_type": "code",
     "collapsed": false,
     "input": [
      "\n",
      "\n",
      "\n"
     ],
     "language": "python",
     "metadata": {},
     "outputs": [],
     "prompt_number": 0
    },
    {
     "cell_type": "markdown",
     "metadata": {},
     "source": [
      "<ol start=\"4\"><li>Using what you\u2019ve learned, use slice notation to grab the RNA portion of the original string (like we did in part 6) only this time using the new `list` variable we created (`x2`).</li></ol>\n"
     ]
    },
    {
     "cell_type": "code",
     "collapsed": false,
     "input": [],
     "language": "python",
     "metadata": {},
     "outputs": [],
     "prompt_number": 0
    },
    {
     "cell_type": "markdown",
     "metadata": {},
     "source": [
      "<ol start=\"5\"><li>The `split` method can be generalized as follows: `some_list = 'some_string'.split(some_delimiter)`. There are two inputs to this split statement (the string that needs splitting and the delimiter used to split) and one output (the output list). Try the following commands to familiarize yourself with how split goes about splitting up a string into a list.</li></ol>  \n",
      "\n",
      "* `x = 'abcdefgh'.split('c')`\n",
      "* `print(x)`\n",
      "* `print('abcdefgh'.split('r'))`\n",
      "* `a = 'hi, my name is Bob, this is Una'`\n",
      "* `print(a.split(','))`\n",
      "* `z = a.split(' ')`\n",
      "* `print(z)`\n",
      "* `print(z[1])`\n",
      "* `l = a.split()  # this is a very useful trait of split, look up what happens when you split with empty parentheses`\n",
      "* `print(l)`\n",
      "* `caveman = a.split(' is ') # notice that multiple characters can be used as the delimiter`\n",
      "* `print(caveman)`  \n"
     ]
    },
    {
     "cell_type": "code",
     "collapsed": false,
     "input": [
      "\n",
      "\n",
      "\n"
     ],
     "language": "python",
     "metadata": {},
     "outputs": [],
     "prompt_number": 0
    },
    {
     "cell_type": "markdown",
     "metadata": {},
     "source": [
      "<ol start=\"6\"><li>Mentally, our eyes split things into lists all the time. We're so used to doing it that it's easy to forget the exact delimiter we're using. Figure out the delimiter that splits these strings, and then use this delimiter to make useful lists that no longer have these delimiters.</li></ol>\n",
      "\n",
      "* `'ACCGCGU,LLMNAQR,2.4'`\n",
      "* `'gene1 gene2 gene3'`\n",
      "* `'gene1, gene2, gene3'`  \n"
     ]
    },
    {
     "cell_type": "code",
     "collapsed": false,
     "input": [
      "\n",
      "\n",
      "\n"
     ],
     "language": "python",
     "metadata": {},
     "outputs": [],
     "prompt_number": 0
    },
    {
     "cell_type": "markdown",
     "metadata": {},
     "source": [
      "<br>\n",
      "##15 minute break\n",
      "\n",
      "<br>\n",
      "##Exercises 6: more properties of lists and 'methods' like split (20-30 minutes)"
     ]
    },
    {
     "cell_type": "markdown",
     "metadata": {},
     "source": [
      "1. Try reassigning the slice notations of lists and strings to other values. For example:  \n",
      "\n",
      "\n",
      "* `x = [1, 2, 3]`\n",
      "* `y = 'ABCDE'`\n",
      "* `x[1] = 'ab'`\n",
      "* `print(x)`\n",
      "* `x[1:3] = 'R'`\n",
      "* `print(x)`\n",
      "* `y[1] = 'L'`\n",
      "* `print(y)`\n",
      "* `y = y[0:1] + 'hello' + y [2:]`\n",
      "* `print(y)`  \n"
     ]
    },
    {
     "cell_type": "code",
     "collapsed": false,
     "input": [
      "\n",
      "\n",
      "\n"
     ],
     "language": "python",
     "metadata": {},
     "outputs": [],
     "prompt_number": 0
    },
    {
     "cell_type": "markdown",
     "metadata": {},
     "source": [
      "<ol start=\"2\"><li>First, split the following string of DNA:<br><br>\n",
      "`'ATGCACTATTGCGTTAACTAGATGGGGCATTTTTAAATGGGACCCTGA'`<br><br>\n",
      "into potential open reading frames (ORFs) using the start codon (`'ATG'`) as your delimiter. Next, we need to fix each individual ORF in the list (as each ORF is now missing its start codon).  To fix each ORF, replace each element in the list with the start codon plus the element (hint: use the string concatenation operator '`+`').</li></ol>"
     ]
    },
    {
     "cell_type": "code",
     "collapsed": false,
     "input": [
      "\n",
      "\n",
      "\n"
     ],
     "language": "python",
     "metadata": {},
     "outputs": [],
     "prompt_number": 0
    },
    {
     "cell_type": "markdown",
     "metadata": {},
     "source": [
      "<ol start=\"3\"><li>In general in Python, anything that ends with a `.something` is a __method__ of whatever came before the dot. Methods are a major feature of the Python programming language. We\u2019ve been using the `split` method of strings which operates on a string and returns a list. Usually, these methods use whatever came before the dot as the input item to operate on, whatever is in parentheses as parameters, and return some value which the user can store as a variable. Importantly, these three components can be input in very creative ways so long as they evaluate to have values that the python method knows what to do with (in this case the method requires an input string and uses a second string as a delimiter). Try these bizarre looking exercises to test this.</li></ol>  \n",
      "\n",
      "\n",
      "* `x = ['abcdefgh', 'cd']`\n",
      "* `y = x[0].split(x[1])`\n",
      "* `y = x[0].split(x[0][2])`\n",
      "* `y = x[0].split(x[0][4])[1]`\n",
      "* `y = x[0].split(x[0][4])[x[1].index('c')]`\n",
      "* `y = x[0].split(x[0][4])[1].split('g')`\n"
     ]
    },
    {
     "cell_type": "code",
     "collapsed": false,
     "input": [
      "\n",
      "\n",
      "\n"
     ],
     "language": "python",
     "metadata": {},
     "outputs": [],
     "prompt_number": 1
    },
    {
     "cell_type": "markdown",
     "metadata": {},
     "source": [
      "In general, you can make your code compact by putting the content of one operation into the input fields of the next, or readable by storing each step as a variable. Here is an alternate version of the final statement:  \n",
      "\n",
      "```{python}\n",
      "first_string = x[0]\n",
      "delimiter = x[0][4]\n",
      "first_list = first_string.split(delimiter)\n",
      "new_string = first_list[1]\n",
      "final_list = new_string.split('g')\n",
      "```"
     ]
    },
    {
     "cell_type": "markdown",
     "metadata": {},
     "source": [
      "<ol start=\"4\"><li>Write a couple lines of code to go through the following string, look only at the `interesting_genes` portion of the string (with `split`), split this portion of the string by `'gene5'` to only look at the part that comes after `'gene5'` (with a second split), and return the value associated with gene5 (with a third split)</li></ol>\n",
      "\n",
      "`'boring_genes; gene1:2.6, gene2:3.8, interesting_genes; gene4:1.9, gene5:8.2, gene6:9.1'`\n",
      "\n"
     ]
    },
    {
     "cell_type": "code",
     "collapsed": false,
     "input": [
      "\n",
      "\n",
      "\n"
     ],
     "language": "python",
     "metadata": {},
     "outputs": [],
     "prompt_number": 1
    },
    {
     "cell_type": "markdown",
     "metadata": {},
     "source": [
      "<ol start=\"5\"><li>Repeat part 4, only modify it with an `if` statement so that it would find the gene5 expression level regardless of whether gene5 was in the `interesting_genes` or `boring_genes`, and so that it would report back which set of genes gene5 was in.</li></ol>\n"
     ]
    },
    {
     "cell_type": "code",
     "collapsed": false,
     "input": [],
     "language": "python",
     "metadata": {},
     "outputs": [],
     "prompt_number": 1
    },
    {
     "cell_type": "markdown",
     "metadata": {},
     "source": [
      "<ol start=\"6\"><li>Create your own list from scratch using square brackets to denote a list and commas to denote separate elements, and anything you want as the individual elements. Store this list as a variable.</li></ol>\n"
     ]
    },
    {
     "cell_type": "code",
     "collapsed": false,
     "input": [],
     "language": "python",
     "metadata": {},
     "outputs": [],
     "prompt_number": 1
    },
    {
     "cell_type": "markdown",
     "metadata": {},
     "source": [
      "<ol start=\"7\"><li>Create a different list and store this as a second variable.</li></ol>"
     ]
    },
    {
     "cell_type": "code",
     "collapsed": false,
     "input": [],
     "language": "python",
     "metadata": {},
     "outputs": [],
     "prompt_number": 1
    },
    {
     "cell_type": "markdown",
     "metadata": {},
     "source": [
      "<ol start=\"8\"><li>Create a third list, and use the variables you assigned to the previous two lists as the elements of this third list. Save this list to a third variable.</li></ol>\n"
     ]
    },
    {
     "cell_type": "code",
     "collapsed": false,
     "input": [],
     "language": "python",
     "metadata": {},
     "outputs": [],
     "prompt_number": 2
    },
    {
     "cell_type": "markdown",
     "metadata": {},
     "source": [
      "<ol start=\"9\"><li>Use slice notation, `print`, and `len` to explore the properties of your new nested list.</li></ol>\n"
     ]
    },
    {
     "cell_type": "code",
     "collapsed": false,
     "input": [],
     "language": "python",
     "metadata": {},
     "outputs": [],
     "prompt_number": 2
    },
    {
     "cell_type": "markdown",
     "metadata": {},
     "source": [
      "<br>\n",
      "##Exercises 7: loops and nested lists (20-30 minutes)."
     ]
    },
    {
     "cell_type": "markdown",
     "metadata": {},
     "source": [
      "1. Run these loops:\n",
      "\n",
      "```{python}\n",
      "for hamster_plan in 'ALMJKLKJ':\n",
      "    print hamster_plan\n",
      "\n",
      "for horse_vitamin in ['frosted', 'berry', 'cereal']:\n",
      "    print horse_vitamin\n",
      "```\n"
     ]
    },
    {
     "cell_type": "code",
     "collapsed": false,
     "input": [
      "\n",
      "\n",
      "\n",
      "\n"
     ],
     "language": "python",
     "metadata": {},
     "outputs": [],
     "prompt_number": 2
    },
    {
     "cell_type": "markdown",
     "metadata": {},
     "source": [
      "<ol start=\"2\"><li>What is being iterated through in the string `'ALMJKLKJ'`? In other words, what is each `hamster_plan`? What is being iterated through in the list `['frosted', 'berry', 'cereal']`? What is each `horse_vitamin`? Do you notice the difference between the type of data retrieved by the `hamster_plan` loop (which is going through a string) and the `horse_vitamin` loop (which is going through a list)? What will `bean_juice` be if you nest the loops as below:</li></ol>\n",
      "\n",
      "```{python}\n",
      "for horse_vitamin in ['frosted', 'berry', 'cereal']:\n",
      "    for bean_juice in horse_vitamin:\n",
      "        print bean_juice\n",
      "```\n"
     ]
    },
    {
     "cell_type": "code",
     "collapsed": false,
     "input": [
      "\n",
      "\n",
      "\n"
     ],
     "language": "python",
     "metadata": {},
     "outputs": [],
     "prompt_number": 2
    },
    {
     "cell_type": "markdown",
     "metadata": {},
     "source": [
      "<ol start=\"3\"><li>Create a loop that goes through all characters in the string `'ALSQRWQT'` and prints each character.</li></ol>\n"
     ]
    },
    {
     "cell_type": "code",
     "collapsed": false,
     "input": [
      "\n",
      "\n",
      "\n"
     ],
     "language": "python",
     "metadata": {},
     "outputs": [],
     "prompt_number": 2
    },
    {
     "cell_type": "markdown",
     "metadata": {},
     "source": [
      "<ol start=\"4\"><li>Make it so that the above loop prints `'found Q'` every time the character is `'Q'`</li></ol>\n"
     ]
    },
    {
     "cell_type": "code",
     "collapsed": false,
     "input": [
      "\n",
      "\n",
      "\n"
     ],
     "language": "python",
     "metadata": {},
     "outputs": []
    },
    {
     "cell_type": "markdown",
     "metadata": {},
     "source": [
      "<ol start=\"5\"><li>Recall from Exercises 2, part 5, that you can redefine a variable to hold new values. Try assigning `x` in the line preceding your loop from above (the part 4 loop) at some initial value of your choosing, and putting `x = x + 1` within the loop. What happens to `x` as you go through the loop? Use this nifty property to print out the letter number where `'Q'` was found whenever `'Q'` is found.</li></ol>\n"
     ]
    },
    {
     "cell_type": "code",
     "collapsed": false,
     "input": [
      "\n",
      "\n",
      "\n"
     ],
     "language": "python",
     "metadata": {},
     "outputs": [],
     "prompt_number": 2
    },
    {
     "cell_type": "markdown",
     "metadata": {},
     "source": [
      "<ol start=\"6\"><li>Remember that lists can be nested. Sometimes the structure of the list can become difficult to discern. Find the length of the nested list stored as `x` (below) to figure out how many lists are in `x`. Use a loop to print each of the lists that make up `x`.</li></ol>\n",
      "\n",
      "```\n",
      "x = [[['gene1', 'heart'], ['gene2', 'brain']], [['gene4', 'appendix'], ['gene5', 'stomach'], ['gene6', 'esophagus']]]\n",
      "```"
     ]
    },
    {
     "cell_type": "code",
     "collapsed": false,
     "input": [
      "\n",
      "\n",
      "\n"
     ],
     "language": "python",
     "metadata": {},
     "outputs": []
    },
    {
     "cell_type": "markdown",
     "metadata": {},
     "source": [
      "<ol start=\"7\"><li>For each of the component lists in `x`, see how many items the component list has (with the `len` function), and make a loop that prints out what those items are.</li></ol>\n"
     ]
    },
    {
     "cell_type": "code",
     "collapsed": false,
     "input": [
      "\n",
      "\n",
      "\n"
     ],
     "language": "python",
     "metadata": {},
     "outputs": [],
     "prompt_number": 2
    },
    {
     "cell_type": "markdown",
     "metadata": {},
     "source": [
      "<ol start=\"8\"><li>Continue investigating the nested list. See how many layers of lists you can query about the elements within them using nested loops without getting confused, and use slice notation to experiment with pulling out elements of interest from this nested list (ex. `x[1]` or `x[1][1]`). If you have time, try looping through all elements of the slices instead of the full list. (replacing `x` in the outermost loop with `x[1]`, `x[1][0:2]`, etc.)</li></ol>\n"
     ]
    },
    {
     "cell_type": "code",
     "collapsed": false,
     "input": [
      "\n",
      "\n",
      "\n"
     ],
     "language": "python",
     "metadata": {},
     "outputs": [],
     "prompt_number": 2
    }
   ],
   "metadata": {}
  }
 ]
}
