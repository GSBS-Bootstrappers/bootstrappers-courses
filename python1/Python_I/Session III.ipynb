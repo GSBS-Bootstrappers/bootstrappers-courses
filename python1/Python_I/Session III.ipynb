{
 "metadata": {
  "name": "",
  "notes": "Python I course, Session III, GSBS Bootstrappers, UMASS Medical School",
  "signature": "sha256:c52dc124aa06697efeecde723a57e25900bed19c230bc2fe2f6935263a42865d"
 },
 "nbformat": 3,
 "nbformat_minor": 0,
 "worksheets": [
  {
   "cells": [
    {
     "cell_type": "markdown",
     "metadata": {},
     "source": [
      "#Day 3: opening, writing, and rearranging text files\n",
      "\n",
      "<br>\n",
      "##Review exercises\n",
      "\n",
      "1. Store the string below as a variable and retrieve the last four characters from the string: `'this is a string'`  \n",
      "2. Overwrite the string stored in this variable with a different string: `'this is a modified string'`  \n",
      "3. Split the string 'this is a modified string' into a list (using spaces as your delimiter) and store it as a list under some variable name.  \n",
      "4. Retrieve the second word (is) from your list using slice notation.  \n",
      "5. Loop through every word in your list.  \n",
      "6. Replace the third word in your list with the word `'my'`.  \n",
      "7. Loop through every word in your list again, and for each word, print the second character if it comes before `'m'` in the alphabet.  \n",
      "\n",
      "<br>\n"
     ]
    },
    {
     "cell_type": "markdown",
     "metadata": {},
     "source": [
      "## Exercises 8, opening text files (30 minutes)\n",
      "\n",
      "For the next several exercises, please download the following files and save them in the same folder as this notebook.  \n",
      "\n",
      " \n",
      "http://bioinfo.umassmed.edu/bootstrappers/bootstrappers-courses/python1/Python_I/yeast/Saccharomyces_cerevisiae.R64-1-1.78_transcripts.bed  \n",
      "http://bioinfo.umassmed.edu/bootstrappers/bootstrappers-courses/python1/Python_I/yeast/Saccharomyces_cerevisiae.R64-1-1.78_sample.gtf  \n",
      "http://bioinfo.umassmed.edu/bootstrappers/bootstrappers-courses/python1/Python_I/yeast/sacCer3.genome  \n",
      "http://bioinfo.umassmed.edu/bootstrappers/bootstrappers-courses/python1/Python_I/yeast/README.txt  \n",
      "<br>\n",
      "\n",
      "<ol><li>Try this sequence of commands to familiarize yourself with how the file object variable of python works:</li></ol>\n",
      "\n",
      "- `x = open('sacCer3.genome')   # x is now a 'file object' variable`\n",
      "- `print(x)`\n",
      "- `y=x.readline()`\n",
      "- `print(y)`\n",
      "- `print(x.readline())`\n",
      "- `print(x.readline())`\n",
      "- `print(x.readlines())   # note this is readlines and not readline`\n",
      "- `print(x.readline())`\n",
      "- `x.seek(0)`\n",
      "- `print(x.readline())`\n",
      "- `x.seek(8)`\n",
      "- `print(x.readline())`\n",
      "- `print(x.readline())`\n",
      "\n",
      "<br>\n"
     ]
    },
    {
     "cell_type": "code",
     "collapsed": false,
     "input": [
      "\n",
      "\n",
      "\n"
     ],
     "language": "python",
     "metadata": {},
     "outputs": [],
     "prompt_number": 7
    },
    {
     "cell_type": "markdown",
     "metadata": {},
     "source": [
      "<ol start=\"2\"><li>Try experimenting with the seek method some more to figure out what it\u2019s doing and how the readline method interacts with it. Can you figure out the numbers that rewind the file to the exact beginning of a line? (hint: look at the Python [documentation](https://docs.python.org/2.7/library/stdtypes.html#file-objects) on `file` to figure out what you can do with files)</li></ol>"
     ]
    },
    {
     "cell_type": "code",
     "collapsed": false,
     "input": [
      "\n",
      "\n",
      "\n"
     ],
     "language": "python",
     "metadata": {},
     "outputs": []
    },
    {
     "cell_type": "markdown",
     "metadata": {},
     "source": [
      "<ol start=\"3\"><li>Use the loop below to go through every line of the file 'sacCer3.genome'</li></ol>\n",
      "\n",
      "```{python}\n",
      "x = open('sacCer3.genome')\n",
      "for line in x:\n",
      "    print('the current line of the file is: ' + line)\n",
      "```\n",
      "\n",
      "Notice that when you put a file handle as the object being iterated through, Python essentially executes the `.readline()` method of file objects again and again, and stores the result into the loop\u2019s user-defined variable until the file runs out of lines. Alternatively, try this implementation to avoid making a file object variable at all:\n",
      "\n",
      "```{python}\n",
      "for line in open('sacCer3.genome'):\n",
      "    print('the current line is: ' + line)\n",
      "```"
     ]
    },
    {
     "cell_type": "code",
     "collapsed": false,
     "input": [
      "\n",
      "\n",
      "\n"
     ],
     "language": "python",
     "metadata": {},
     "outputs": []
    },
    {
     "cell_type": "markdown",
     "metadata": {},
     "source": [
      "<ol start=\"4\"><li>Modify the loop from above and use slice notation on the variable called `line` to print only the fifth, sixth, and seventh characters of each line from the text file.</li></ol>"
     ]
    },
    {
     "cell_type": "code",
     "collapsed": false,
     "input": [
      "\n",
      "\n",
      "\n"
     ],
     "language": "python",
     "metadata": {},
     "outputs": [],
     "prompt_number": 0
    },
    {
     "cell_type": "markdown",
     "metadata": {},
     "source": [
      "<ol start=\"5\"><li>Modify the loop to split each line using the tab character (the tab character is `'\\t'`) and only print the second column (`column[1]`)</li></ol>\n"
     ]
    },
    {
     "cell_type": "code",
     "collapsed": false,
     "input": [
      "\n",
      "\n",
      "\n"
     ],
     "language": "python",
     "metadata": {},
     "outputs": [],
     "prompt_number": 0
    },
    {
     "cell_type": "markdown",
     "metadata": {},
     "source": [
      "## Exercises 9, writing to files (30 minutes)\n",
      "\n",
      "<ol start=\"1\"><li>The following code writes a few characters to a file. Run it and open the 'test_output.txt' file in a text editor such as \"notepad\" or \"textedit\" to verify that it worked.</li></ol>\n",
      "\n",
      "```{python}\n",
      "output_file=open('test_output.txt', 'w')\n",
      "for letter in 'ACCGT':\n",
      "    output_file.write(letter)\n",
      "output_file.close()\n",
      "```"
     ]
    },
    {
     "cell_type": "code",
     "collapsed": false,
     "input": [
      "\n",
      "\n",
      "\n"
     ],
     "language": "python",
     "metadata": {},
     "outputs": [],
     "prompt_number": 7
    },
    {
     "cell_type": "markdown",
     "metadata": {},
     "source": [
      "<ol start=\"2\"><li>Now let\u2019s take the input from one file and output it to another like this:</li></ol>\n",
      "\n",
      "```{python}\n",
      "x = open('Saccharomyces_cerevisiae.R64-1-1.78_sample.gtf')\n",
      "y = open('test_output2.txt', 'w')\n",
      "for line in x:\n",
      "    y.write(line)\n",
      "y.close()\n",
      "```\n",
      "\n",
      "Afterward, you\u2019ll want to open 'test_output2.txt' to see if it looks the same as 'Saccharomyces_cerevisiae.R64-1-1.78_sample.gtf'\n",
      "\n"
     ]
    },
    {
     "cell_type": "code",
     "collapsed": false,
     "input": [
      "\n",
      "\n",
      "\n"
     ],
     "language": "python",
     "metadata": {},
     "outputs": []
    },
    {
     "cell_type": "markdown",
     "metadata": {},
     "source": [
      "<ol start=\"3\"><li>The file 'Saccharomyces_cerevisiae.R64-1-1.78_transcripts.bed' contains transcript annotations for the yeast genome. The transcripts are ordered by genomic location. Write some code to read transcripts from the file, that are within the genomic region chrIV:70640-1461829 and that are on the Watson strand. Split each line into their separate (there are 6 tab-delimited columns in the file) columns and store all items in a list. The resulting list should have a structure like:  \n",
      "<br>\n",
      "`[[chromosome, start, end, ..., ..., ...], [chromosome, start, end, ..., ..., ...], ....]`\n",
      "</li></ol>"
     ]
    },
    {
     "cell_type": "code",
     "collapsed": false,
     "input": [
      "\n",
      "\n",
      "\n"
     ],
     "language": "python",
     "metadata": {},
     "outputs": [],
     "prompt_number": 7
    },
    {
     "cell_type": "markdown",
     "metadata": {},
     "source": [
      "<ol start=\"4\"><li>Calculate the average transcript length of the transcripts in the list created in the previous question. Store the result in a variable.</li></ol>"
     ]
    },
    {
     "cell_type": "code",
     "collapsed": false,
     "input": [
      "\n",
      "\n",
      "\n"
     ],
     "language": "python",
     "metadata": {},
     "outputs": [],
     "prompt_number": 7
    },
    {
     "cell_type": "markdown",
     "metadata": {},
     "source": [
      "<ol start=\"5\"><li>For transcripts that are longer than average, write a file, containing two columns, separated by a tab. The first column should contain the name of the transcripts and the second column their length.</li></ol>"
     ]
    },
    {
     "cell_type": "code",
     "collapsed": false,
     "input": [
      "\n",
      "\n",
      "\n"
     ],
     "language": "python",
     "metadata": {},
     "outputs": [],
     "prompt_number": 7
    },
    {
     "cell_type": "markdown",
     "metadata": {},
     "source": [
      "<ol start=\"6\"><li>The file 'Saccharomyces_cerevisiae.R64-1-1.78_sample.gtf' contains an excerpt from the gene annotations for yeast, as downloaded from Ensembl. The format of the file is explained in 'README.txt'. Try to create a file containing genomic location (chromosome, start, end), transcript name and strand, separated by tabs (five columns), based on 'Saccharomyces_cerevisiae.R64-1-1.78_sample.gtf'. Be sure to only output transcripts.  \n",
      "\n",
      "<br>\n",
      "Example output:  \n",
      "<br>\n",
      "`chrVI     194812     196314    YFR021W    +\n",
      "chrXVI    298571     299503    YPL134C    -\n",
      "...\n",
      "...\n",
      "etc.`\n",
      "</li></ol>  \n",
      "\n",
      "<br>"
     ]
    },
    {
     "cell_type": "code",
     "collapsed": false,
     "input": [
      "\n",
      "\n",
      "\n"
     ],
     "language": "python",
     "metadata": {},
     "outputs": [],
     "prompt_number": 7
    },
    {
     "cell_type": "markdown",
     "metadata": {},
     "source": [
      "## Exercises 10, `import` and genomic data (30 minutes)\n",
      "<ol start=\"1\"><li>For this exercise we will be using the \"ucscgenome\" module. This module most likely needs to be installed before it can be used. Open a __terminal__ (or a \"__DOS-box__\", or __cmd.exe__) and install \"ucscgenome\" using pip, using the following command:  \n",
      "\n",
      "<br>\n",
      "`pip install ucscgenome`  \n",
      "<br>\n",
      "</li>\n",
      "<li>The following code is an exaple of how 'ucscgenome' can be used once it is installed. Run it to ensure 'ucscgenome' was installed properly.</li></ol>\n",
      "\n",
      "```{python}\n",
      "import ucscgenome\n",
      "genome = ucscgenome.Genome(\"sacCer3\")\n",
      "sequence = genome[\"chrIV\"]\n",
      "print(sequence[100:110])\n",
      "```"
     ]
    },
    {
     "cell_type": "code",
     "collapsed": false,
     "input": [
      "import ucscgenome\n",
      "genome = ucscgenome.Genome(\"sacCer3\")\n",
      "sequence = genome[\"chrIV\"]\n",
      "print(sequence[100:110])\n",
      "\n"
     ],
     "language": "python",
     "metadata": {},
     "outputs": [
      {
       "output_type": "stream",
       "stream": "stdout",
       "text": [
        "ACACCCACAC\n"
       ]
      }
     ],
     "prompt_number": 1
    },
    {
     "cell_type": "code",
     "collapsed": false,
     "input": [],
     "language": "python",
     "metadata": {},
     "outputs": []
    },
    {
     "cell_type": "markdown",
     "metadata": {},
     "source": [
      "<ol start=\"3\"><li>Use the file created in the previous exercise (9.6) to extract sequence information from the yeast genome. For each of the transcripts in the file that are on the Watson strand, obtain the sequence in a window of 50 bases around the transcription start site. Write the results to a file containing the name of the transcripts as well as the 50-base sequences.</li></ol>"
     ]
    },
    {
     "cell_type": "code",
     "collapsed": false,
     "input": [
      "\n",
      "\n",
      "\n"
     ],
     "language": "python",
     "metadata": {},
     "outputs": [],
     "prompt_number": 9
    },
    {
     "cell_type": "markdown",
     "metadata": {},
     "source": [
      "The following code makes it possible to translate one set of characters into another set of character in a string. How could you apply this to obtain a reverse complement sequence from a forward sequence?\n",
      "\n",
      "```{python}\n",
      "import string\n",
      "t = string.maketrans(\"aei\", \"qwe\") # this create a 'translate string' `t`\n",
      "print('this needs to be translated'.translate(t))\n",
      "```"
     ]
    },
    {
     "cell_type": "code",
     "collapsed": false,
     "input": [
      "# example\n",
      "import string\n",
      "t = string.maketrans(\"aei\", \"qwe\") # this create a 'translate string' `t`\n",
      "print('this needs to be translated'.translate(t))\n"
     ],
     "language": "python",
     "metadata": {},
     "outputs": [
      {
       "output_type": "stream",
       "stream": "stdout",
       "text": [
        "thes nwwds to bw trqnslqtwd\n"
       ]
      }
     ],
     "prompt_number": 2
    },
    {
     "cell_type": "code",
     "collapsed": false,
     "input": [],
     "language": "python",
     "metadata": {},
     "outputs": []
    },
    {
     "cell_type": "code",
     "collapsed": false,
     "input": [
      "\n",
      "\n",
      "\n",
      "\n"
     ],
     "language": "python",
     "metadata": {},
     "outputs": []
    }
   ],
   "metadata": {}
  }
 ]
}