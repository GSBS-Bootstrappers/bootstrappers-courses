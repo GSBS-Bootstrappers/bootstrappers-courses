{
 "metadata": {
  "name": "",
  "notes": "Python I course, Session III, GSBS Bootstrappers, UMASS Medical School",
  "signature": "sha256:de667a319a9a88dbd5caa1694151d384241fb351e2af199b76b6bda049ce882b"
 },
 "nbformat": 3,
 "nbformat_minor": 0,
 "worksheets": [
  {
   "cells": [
    {
     "cell_type": "markdown",
     "metadata": {},
     "source": []
    },
    {
     "cell_type": "markdown",
     "metadata": {},
     "source": [
      "#Day 3: opening, writing, and rearranging text files\n",
      "\n",
      "<br>\n",
      "##Review exercises\n",
      "\n",
      "1. Store the string below as a variable and retrieve the last four characters from the string: `'this is a string'`  \n",
      "2. Overwrite the string stored in this variable with a different string: `'this is a modified string'`  \n",
      "3. Split the string 'this is a modified string' into a list (using spaces as your delimiter) and store it as a list under some variable name.  \n",
      "4. Retrieve the second word (is) from your list using slice notation.  \n",
      "5. Loop through every word in your list.  \n",
      "6. Replace the third word in your list with the word `'my'`.  \n",
      "7. Loop through every word in your list again, and for each word, print the second character if it comes before `'m'` in the alphabet.  \n",
      "\n",
      "<br>\n"
     ]
    },
    {
     "cell_type": "markdown",
     "metadata": {},
     "source": [
      "## Exercises 8, opening text files (30 minutes)\n",
      "\n",
      "For the next several exercises, please download the following files and save them in the same folder as this notebook.  \n",
      "\n",
      "\n",
      "http://bioinfo.umassmed.edu/bootstrappers/bootstrappers-courses/python1/Python_I/yeast/Saccharomyces_cerevisiae.R64-1-1.78_random.bed  \n",
      "http://bioinfo.umassmed.edu/bootstrappers/bootstrappers-courses/python1/Python_I/yeast/Saccharomyces_cerevisiae.R64-1-1.78_transcripts.bed  \n",
      "http://bioinfo.umassmed.edu/bootstrappers/bootstrappers-courses/python1/Python_I/yeast/Saccharomyces_cerevisiae.R64-1-1.78_sample.gtf  \n",
      "http://bioinfo.umassmed.edu/bootstrappers/bootstrappers-courses/python1/Python_I/yeast/sacCer3.genome  \n",
      "http://bioinfo.umassmed.edu/bootstrappers/bootstrappers-courses/python1/Python_I/yeast/README.txt  \n",
      "<br>\n",
      "\n",
      "<ol><li>Try this sequence of commands to familiarize yourself with how the file object variable of python works:</li></ol>\n",
      "\n",
      "- `x = open('sacCer3.genome')   # x is now a 'file object' variable`\n",
      "- `print(x)`\n",
      "- `y=x.readline()`\n",
      "- `print(y)`\n",
      "- `print(x.readline())`\n",
      "- `print(x.readline())`\n",
      "- `print(x.readlines())   # note this is readlines and not readline`\n",
      "- `print(x.readline())`\n",
      "- `x.seek(0)`\n",
      "- `print(x.readline())`\n",
      "- `x.seek(8)`\n",
      "- `print(x.readline())`\n",
      "- `print(x.readline())`\n",
      "\n",
      "<br>\n"
     ]
    },
    {
     "cell_type": "code",
     "collapsed": false,
     "input": [
      "\n",
      "\n",
      "\n"
     ],
     "language": "python",
     "metadata": {},
     "outputs": [],
     "prompt_number": 7
    },
    {
     "cell_type": "markdown",
     "metadata": {},
     "source": [
      "<ol start=\"2\"><li>Try experimenting with the seek method some more to figure out what it\u2019s doing and how the readline method interacts with it. Can you figure out the numbers that rewind the file to the exact beginning of a line? (hint: look at the Python [documentation](https://docs.python.org/2.7/library/stdtypes.html#file-objects) on `file` to figure out what you can do with files)</li></ol>"
     ]
    },
    {
     "cell_type": "code",
     "collapsed": false,
     "input": [
      "\n",
      "\n",
      "\n"
     ],
     "language": "python",
     "metadata": {},
     "outputs": []
    },
    {
     "cell_type": "markdown",
     "metadata": {},
     "source": [
      "<ol start=\"3\"><li>Use the loop below to go through every line of the file 'sacCer3.genome'</li></ol>\n",
      "\n",
      "```{python}\n",
      "x = open('sacCer3.genome')\n",
      "for line in x:\n",
      "    print('the current line of the file is: ' + line)\n",
      "```\n",
      "\n",
      "Notice that when you put a file handle as the object being iterated through, Python essentially executes the `.readline()` method of file objects again and again, and stores the result into the loop\u2019s user-defined variable until the file runs out of lines. Alternatively, try this implementation to avoid making a file object variable at all:\n",
      "\n",
      "```{python}\n",
      "for line in open('sacCer3.genome'):\n",
      "    print('the current line is: ' + line)\n",
      "```"
     ]
    },
    {
     "cell_type": "code",
     "collapsed": false,
     "input": [
      "\n",
      "\n",
      "\n"
     ],
     "language": "python",
     "metadata": {},
     "outputs": []
    },
    {
     "cell_type": "markdown",
     "metadata": {},
     "source": [
      "<ol start=\"4\"><li>Modify the loop from above and use slice notation on the variable called `line` to print only the fifth, sixth, and seventh characters of each line from the text file.</li></ol>"
     ]
    },
    {
     "cell_type": "code",
     "collapsed": false,
     "input": [
      "\n",
      "\n",
      "\n"
     ],
     "language": "python",
     "metadata": {},
     "outputs": [],
     "prompt_number": 0
    },
    {
     "cell_type": "markdown",
     "metadata": {},
     "source": [
      "<ol start=\"5\"><li>Modify the loop to split each line using the tab character (the tab character is `'\\t'`) and only print the second column (`column[1]`)</li></ol>\n"
     ]
    },
    {
     "cell_type": "code",
     "collapsed": false,
     "input": [
      "\n",
      "\n",
      "\n"
     ],
     "language": "python",
     "metadata": {},
     "outputs": [],
     "prompt_number": 0
    },
    {
     "cell_type": "markdown",
     "metadata": {},
     "source": [
      "## Exercises 9, writing to files (50 minutes)\n",
      "\n",
      "<ol start=\"1\"><li>The following code writes a few characters to a file. Run it and open the 'test_output.txt' file in a text editor such as \"notepad\" or \"textedit\" to verify that it worked.</li></ol>\n",
      "\n",
      "```{python}\n",
      "output_file=open('test_output.txt', 'w')\n",
      "for letter in 'ACCGT':\n",
      "    output_file.write(letter)\n",
      "output_file.close()\n",
      "```"
     ]
    },
    {
     "cell_type": "code",
     "collapsed": false,
     "input": [
      "\n",
      "\n",
      "\n"
     ],
     "language": "python",
     "metadata": {},
     "outputs": [],
     "prompt_number": 7
    },
    {
     "cell_type": "markdown",
     "metadata": {},
     "source": [
      "<ol start=\"2\"><li>Now let\u2019s take the input from one file and output it to another like this:</li></ol>\n",
      "\n",
      "```{python}\n",
      "x = open('Saccharomyces_cerevisiae.R64-1-1.78_sample.gtf')\n",
      "y = open('test_output2.txt', 'w')\n",
      "for line in x:\n",
      "    y.write(line)\n",
      "y.close()\n",
      "```\n",
      "\n",
      "Afterward, you\u2019ll want to open 'test_output2.txt' to see if it looks the same as 'Saccharomyces_cerevisiae.R64-1-1.78_sample.gtf'\n",
      "\n"
     ]
    },
    {
     "cell_type": "code",
     "collapsed": false,
     "input": [],
     "language": "python",
     "metadata": {},
     "outputs": []
    }
   ],
   "metadata": {}
  }
 ]
}